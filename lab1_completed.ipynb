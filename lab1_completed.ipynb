{
 "cells": [
  {
   "cell_type": "markdown",
   "metadata": {
    "colab_type": "text",
    "id": "7KeNKtNL2Ix-"
   },
   "source": [
    "<div>\n",
    "<img src=https://www.institutedata.com/wp-content/uploads/2019/10/iod_h_tp_primary_c.svg width=\"300\">\n",
    "</div>\n",
    "\n",
    "# Python - Lab 1 \n",
    "\n",
    "## Learning objectives\n",
    "\n",
    "This lab demonstrates examples of: \n",
    "\n",
    "1. Creating and manipulating lists\n",
    "2. For loops\n",
    "3. Importing modules and functions\n",
    "4. Creating dictonaries\n",
    "\n",
    "## Instructions:\n",
    "\n",
    "1. Replace ??? with the appropriate code\n",
    "2. Press Shift + Enter to execute cell\n",
    "\n"
   ]
  },
  {
   "cell_type": "code",
   "execution_count": 31,
   "metadata": {
    "colab": {},
    "colab_type": "code",
    "id": "NaRcNY1l2LbD"
   },
   "outputs": [
    {
     "name": "stdout",
     "output_type": "stream",
     "text": [
      "['Alan', 'Babe', 'Caleb', 'Didi', 'Evan', 'Fab', 'George', 'Habibi', 'Iris', 'Jen']\n"
     ]
    }
   ],
   "source": [
    "# create a list of 10 student (use just first name)\n",
    "students = ['Alan', 'Babe', 'Caleb', 'Didi', 'Evan', 'Fab', 'George', 'Habibi', 'Iris', 'Jen']\n",
    "print(students)"
   ]
  },
  {
   "cell_type": "code",
   "execution_count": null,
   "metadata": {},
   "outputs": [],
   "source": []
  },
  {
   "cell_type": "code",
   "execution_count": 43,
   "metadata": {
    "colab": {},
    "colab_type": "code",
    "id": "LtbLA_T811kr"
   },
   "outputs": [
    {
     "name": "stdout",
     "output_type": "stream",
     "text": [
      "Index 01 -> Alan\n",
      "Index 02 -> Babe\n",
      "Index 03 -> Caleb\n",
      "Index 04 -> Didi\n",
      "Index 05 -> Evan\n",
      "Index 06 -> Fab\n",
      "Index 07 -> George\n",
      "Index 08 -> Habibi\n",
      "Index 09 -> Iris\n",
      "Index 010 -> Jen\n"
     ]
    }
   ],
   "source": [
    "# print the list of students\n",
    "# in the following format\n",
    "# Index 01 \t Alice\n",
    "# Index 02 \t Bob\n",
    "# Index 03 \t Pradeep\n",
    "for x in students:\n",
    "    print('Index 0' + str(students.index(x)+1) + ' -> ' + str(x))"
   ]
  },
  {
   "cell_type": "code",
   "execution_count": 44,
   "metadata": {
    "colab": {},
    "colab_type": "code",
    "id": "OF5sj3CX1lHl"
   },
   "outputs": [
    {
     "name": "stdout",
     "output_type": "stream",
     "text": [
      "Index 010 -> Jen\n",
      "Index 09 -> Iris\n",
      "Index 08 -> Habibi\n",
      "Index 07 -> George\n",
      "Index 06 -> Fab\n",
      "Index 05 -> Evan\n",
      "Index 04 -> Didi\n",
      "Index 03 -> Caleb\n",
      "Index 02 -> Babe\n",
      "Index 01 -> Alan\n"
     ]
    }
   ],
   "source": [
    "# print the list of students in reverse order one student in a line with its index\n",
    "students_reversed = reversed(students)\n",
    "for a in students_reversed:\n",
    "    print('Index 0' + str(students.index(a)+1) + ' -> ' + str(a))"
   ]
  },
  {
   "cell_type": "code",
   "execution_count": 45,
   "metadata": {
    "colab": {},
    "colab_type": "code",
    "id": "eAdtim4G1pyV"
   },
   "outputs": [
    {
     "name": "stdout",
     "output_type": "stream",
     "text": [
      "['Babe', 'Fab', 'Jen', 'Caleb', 'Alan', 'Habibi', 'George', 'Iris', 'Didi', 'Evan']\n"
     ]
    }
   ],
   "source": [
    "# print the student list in random order\n",
    "# hint look up the function random.sample\n",
    "import random\n",
    "random_students = random.sample(students,10)\n",
    "print(random_students)"
   ]
  },
  {
   "cell_type": "code",
   "execution_count": 1,
   "metadata": {
    "colab": {},
    "colab_type": "code",
    "id": "sfKkL5dt1tqG"
   },
   "outputs": [
    {
     "name": "stdout",
     "output_type": "stream",
     "text": [
      "<class 'zip'>\n",
      "[('Alan', 87), ('Babe', 45), ('Caleb', 76), ('Didi', 64), ('Evan', 66), ('Fab', 90), ('George', 55), ('Habibi', 73), ('Iris', 69), ('Jen', 75)]\n"
     ]
    }
   ],
   "source": [
    "# list students in order of their exam marks in the following list\n",
    "students = ['Alan', 'Babe', 'Caleb', 'Didi', 'Evan', 'Fab', 'George', 'Habibi', 'Iris', 'Jen']\n",
    "marks = [87,45,76,64,66,90,55,73,69,75]\n",
    "marks_of_students1 = zip(students, marks)\n",
    "print(type(marks_of_students1))\n",
    "marks_of_students2 = list(marks_of_students1)\n",
    "print(marks_of_students2)\n"
   ]
  },
  {
   "cell_type": "code",
   "execution_count": 2,
   "metadata": {
    "colab": {},
    "colab_type": "code",
    "id": "9d9QrXRo182c"
   },
   "outputs": [
    {
     "name": "stdout",
     "output_type": "stream",
     "text": [
      "{'Babe': 45, 'George': 55, 'Didi': 64, 'Evan': 66, 'Iris': 69, 'Habibi': 73, 'Jen': 75, 'Caleb': 76, 'Alan': 87, 'Fab': 90}\n"
     ]
    }
   ],
   "source": [
    "# list students in order of their exam marks in the following list\n",
    "marks = [87,45,76,64,66,90,55,73,69,75]\n",
    "studentsAndMarks = dict(zip(students, marks))\n",
    "sorted_values = sorted(studentsAndMarks.values()) # Sort the values\n",
    "sorted_dict = {}\n",
    "for i in sorted_values:\n",
    "    for k in studentsAndMarks.keys():\n",
    "        if studentsAndMarks[k] == i:\n",
    "            sorted_dict[k] = studentsAndMarks[k]\n",
    "            break\n",
    "print(sorted_dict)"
   ]
  },
  {
   "cell_type": "code",
   "execution_count": null,
   "metadata": {},
   "outputs": [],
   "source": []
  }
 ],
 "metadata": {
  "colab": {
   "collapsed_sections": [],
   "name": "Lab01.ipynb",
   "provenance": []
  },
  "kernelspec": {
   "display_name": "Python 3",
   "language": "python",
   "name": "python3"
  },
  "language_info": {
   "codemirror_mode": {
    "name": "ipython",
    "version": 3
   },
   "file_extension": ".py",
   "mimetype": "text/x-python",
   "name": "python",
   "nbconvert_exporter": "python",
   "pygments_lexer": "ipython3",
   "version": "3.8.5"
  }
 },
 "nbformat": 4,
 "nbformat_minor": 1
}
